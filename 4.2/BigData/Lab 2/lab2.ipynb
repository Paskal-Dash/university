{
  "nbformat": 4,
  "nbformat_minor": 0,
  "metadata": {
    "kernelspec": {
      "display_name": "Python 3",
      "language": "python",
      "name": "python3"
    },
    "language_info": {
      "codemirror_mode": {
        "name": "ipython",
        "version": 3
      },
      "file_extension": ".py",
      "mimetype": "text/x-python",
      "name": "python",
      "nbconvert_exporter": "python",
      "pygments_lexer": "ipython3",
      "version": "3.8.5"
    },
    "colab": {
      "name": "lab2.ipynb",
      "provenance": [],
      "collapsed_sections": []
    }
  },
  "cells": [
    {
      "cell_type": "markdown",
      "metadata": {
        "id": "Xwv6rR5YO_gU"
      },
      "source": [
        "# Исторические данные о президентах стран\n",
        "\n",
        "Набор данных «Правители, выборы и нерегулярное управление» (REIGN) описывает политические условия в каждой стране каждый месяц. Эти условия включают срок полномочий и личные характеристики мировых лидеров, типы политических институтов и действующих политических режимов, результаты выборов и объявления о выборах, а также нерегулярные события, такие как перевороты, попытки переворота и другие насильственные конфликты ». Последний набор данных охватывает 200 стран, с 1950 года по настоящее время, и включает в себя десятки переменных для каждого ежемесячного снимка.\n",
        "\n",
        "Данные взяты [отсюда](https://oefresearch.org/datasets/reign). Описание всех полей в оригинале можно найти [тут](https://oefdatascience.github.io/REIGN.github.io/menu/REIGN_CODEBOOK.html).\n",
        "\n",
        "*Дисклеймер. Информация предоставлена исключительно в целях обучения студентов работе с большими наборами данных. Содержание файлов не несет в себе никакой смысловой нагрузки и не преследует никаких политиечских целей. Ответственность за содержимое несут исключительно авторы сайта oefresearch.org.*\n",
        "\n",
        "Поля, описывающие данные (Внимание!! Представлен приблизительный перевод. Оригинал можно найти в [документации](https://oefdatascience.github.io/REIGN.github.io/menu/REIGN_CODEBOOK.html)):\n",
        "\n",
        "* `ccode` - число от 1 до 3 символов - уникальный ИД одной из 201 рассмотренных стран\n",
        "* `country` - название страны\n",
        "* `leader` - имя / фамилия лидера. Это поле не уникальное, поэтому при сортировке / группировке нужно учитывать страну и время для однозначной идентификации лидера.\n",
        "* `year` - календарный год от 1950 до 2020\n",
        "* `month` - месяц, число от 1 до 12\n",
        "* `elected` - 1 для даты, когда проходили выборы президента, иначе 0\n",
        "* `age` - возраст президента\n",
        "* `male` - 1 если мужчина, 0 если женщина\n",
        "* `militarycareer` - 1 если правитель в истории своей карьеры работал в силовых структурах (армия, полиция, спецслужбы, ...)\n",
        "* `tenure_months` - количество месяцев сколько человек у власти\n",
        "* `government` - один из 16 типов правления. \n",
        "    * Presidential Democracy - демократия, при которой основными полномочиями наделен президент\n",
        "    * Parliamentary Democracy - демократия, при которой парламент более полномочен чем президент\n",
        "    * Personalist Systems - власть в руках одного человека - не монарха\n",
        "    * Monarchies - монархия\n",
        "    * Single-Party Systems - власть принадлежит одной пардити.\n",
        "    * Oligarchies - Власть принадлежит одному человеку, либо партии, в которой этот человек стоит во главе. Человек представляет интересы элиты.\n",
        "    * Party-Personalist Hybrids - среднее между партией и диктаторством, когда власть принадлежит партии, но полностью подконтрольной одному человеку\n",
        "    * Military Juntas - во главе стоит военный, но его действия проверяются другими военными службами\n",
        "    * Indirect Military Juntas - по факту власть принадлежит военным, но по факту ими правят гражданские лица\n",
        "    * Personalist-Military Hybrids - смесь военной и диктаторской системы\n",
        "    * Party-Military Hybrids - смесь военной и партийной власти\n",
        "    * Party-Personalist-Military Hybrids - смесь диктаторской и партийной власти\n",
        "    * Warlordism - для стран, в которых военное положение разрушило основную форму правления.\n",
        "    * Foreign-Occupied - когда зарубежные силы захватывают власть\n",
        "    * Civilian Provisional или Military Provisional - временные режимы правления, которые закрепляются в стране на время перехода к демократии (обычно) либо следуют за переворотами и конституционными кризисами.\n",
        "* `anticipation` - ожидание. Значение равно 1 если в течение следующих шести месяцев ожидаются перевыборы. Для тех стран, где выборы происходят не через регулярные промежутки времени\n",
        "* `ref_ant` - 1 если в течение следующих 6 месяцев ожидается референдум\n",
        "* `leg_ant` - 1 если в течение следующих 6 месяцев ожидаются выборы, предписанные основным законом страны\n",
        "* `exec_ant` - 1 если в течение следующих 6 месяцев ожидаются квалификационные выборы\n",
        "* `irreg_lead_ant` - 1 если в течение следующих нескольких месяцев ожидаются внеочередные выборы\n",
        "* `election_now` - 1 если выборы проходят в текущем месяце\n",
        "* `election_recent` - 1 если выборы прошли менее 6 месяцев назад\n",
        "* `leg_recent`, `exec_recent`, `lead_recent`, `ref_recent`, `direct_recent`, `indirect_recent` - 1 устанавливается в течение 6 месяцев после выборов разных типов власти \n",
        "* `victory_recent` - 1 в течение 6 месяцев после повторной победы правящей патии либо лидера\n",
        "* `defeat_recent` - 1 в течение 6 месяцев после поражения правящей патии либо лидера (если сменилось правление)\n",
        "* `change_recent` - 1 в течение 6 месяцев после выборов, которые повлекли за собой смену власти\n",
        "* `nochange_recent` - 1 в течение 6 месяцев после выборов, которые не повлекли за собой смену власти\n",
        "* `delayed` - 1 следующие 6 месяцев после выборов, которые были отменены либо задержаны на два или более месяца\n",
        "* `lastelection` - количество месяцев с момента последних прошедших отборов (выборы на высшую должность или референдум, который расширит исполнительную власть), или, в отсутствие предыдущих выборов, количество месяцев с момента последнего изменения политической системы.\n",
        "* `loss` - это количество месяцев с момента, когда действующая политическая партия или лидер в последний раз проиграли выборы или, в отсутствие предыдущих потерь, количество месяцев с момента последнего изменения политической системы\n",
        "* `irregular` - аналогично loss, но с момента последнего переворота в стране\n",
        "* `prev_conflict` - равняется количеству продолжающихся ожесточенных гражданских стычек, произошедших где-то в стране за предыдущий месяц. Эта мера колеблется от 0 (без предыдущих конфликтов) до любого положительного целого числа, указывающего на наличие конфликтов. По состоянию на 03 июня 2020 года максимальное число гражданских конфликтов произошедших в стране составляет 9.\n",
        "* `pt_suc` - 1 если в этом месяце произошел успешный переворот с лидером\n",
        "* `pt_attempt` - 1 если в этом месяце произошла попытка переворота против лидера\n",
        "* `precip` - измеряет Стандартизированный индекс осадков (SPI) для каждой страны в месяц. Значение 0 соответствует исторически среднему уровню осадков в заданном месяце. Положительные значения выше 0 указывают на большее количество осадков, чем исторически ожидалось, причем значения выше 1,96 в целом соответствуют статистически значимому увеличению количества осадков. И наоборот, отрицательные значения можно интерпретировать как указание на меньшее количество осадков, чем ожидалось. Исходные данные взяты из данных наблюдений NOAA PREC/L, при этом будущие месяцы прогнозируются с использованием оптимизированных для конкретной страны моделей ARIMA. По состоянию на 03 июня 2020 года наземные данные заканчиваются в апреле 2020 года, а прогноз - с мая по декабрь 2020 года.\n",
        "* `couprisk` - это оценочная вероятность риска попытки военного переворота, имеющей место в стране в течение месяца. couprisk оценивается с помощью классификатора машинного обучения и алгоритма суммирования, который объединяет индивидуальные прогнозы a) алгоритма случайных лесов, b) логистической регрессионной модели и c) линейной вероятностной регрессионной модели. Обобщенное уравнение оценки затем используется для объединения взвешенных вероятностей каждой предыдущей модели с целью использования сильных сторон каждой модели при сведении к минимуму плохих прогнозов. Обучение модели осуществляется путем перекрестного тестирования с использованием данных за 1950 - 1974 гг. в качестве начального обучающего окна. Таким образом, оценка `couprisk` начинается только с января 1975 года и продолжается до июня 2020 года.\n",
        "* `pctile_risk` - соответствует процентному риску для каждой страны по оценке вероятности военного переворота в этом месяце. Это стандартный процентиль риска, который варьируется от 0 (риск менее 100% стран в этом месяце) до 1 (риск более 100% всех остальных стран в этом месяце). Поскольку наша оценка риска военного переворота является несколько консервативной, pctile_риск дает возможность изучить большее количество риска военного переворота по сравнению со всеми другими странами в этом месяце."
      ]
    },
    {
      "cell_type": "code",
      "metadata": {
        "scrolled": true,
        "id": "WPXgE0bbO_gX"
      },
      "source": [
        "%matplotlib inline\n",
        "import numpy as np\n",
        "import matplotlib.pyplot as plt\n",
        "import pandas as pd\n",
        "pd.set_option('display.max_columns', 50)\n",
        "df = pd.read_csv(\"/REIGN_2020_10.csv\")"
      ],
      "execution_count": 2,
      "outputs": []
    },
    {
      "cell_type": "code",
      "metadata": {
        "id": "RHfI9FLaO_g1",
        "colab": {
          "base_uri": "https://localhost:8080/"
        },
        "outputId": "8163ef6b-8a11-4460-f41b-1b239cb71bce"
      },
      "source": [
        "df.shape"
      ],
      "execution_count": 3,
      "outputs": [
        {
          "output_type": "execute_result",
          "data": {
            "text/plain": [
              "(136623, 38)"
            ]
          },
          "metadata": {
            "tags": []
          },
          "execution_count": 3
        }
      ]
    },
    {
      "cell_type": "code",
      "metadata": {
        "id": "fre7glz0O_hX",
        "colab": {
          "base_uri": "https://localhost:8080/",
          "height": 549
        },
        "outputId": "db2b8dc2-bc23-45a2-c071-61d0b7066aeb"
      },
      "source": [
        "df.head(10)"
      ],
      "execution_count": 4,
      "outputs": [
        {
          "output_type": "execute_result",
          "data": {
            "text/html": [
              "<div>\n",
              "<style scoped>\n",
              "    .dataframe tbody tr th:only-of-type {\n",
              "        vertical-align: middle;\n",
              "    }\n",
              "\n",
              "    .dataframe tbody tr th {\n",
              "        vertical-align: top;\n",
              "    }\n",
              "\n",
              "    .dataframe thead th {\n",
              "        text-align: right;\n",
              "    }\n",
              "</style>\n",
              "<table border=\"1\" class=\"dataframe\">\n",
              "  <thead>\n",
              "    <tr style=\"text-align: right;\">\n",
              "      <th></th>\n",
              "      <th>ccode</th>\n",
              "      <th>country</th>\n",
              "      <th>leader</th>\n",
              "      <th>year</th>\n",
              "      <th>month</th>\n",
              "      <th>elected</th>\n",
              "      <th>age</th>\n",
              "      <th>male</th>\n",
              "      <th>militarycareer</th>\n",
              "      <th>tenure_months</th>\n",
              "      <th>government</th>\n",
              "      <th>anticipation</th>\n",
              "      <th>ref_ant</th>\n",
              "      <th>leg_ant</th>\n",
              "      <th>exec_ant</th>\n",
              "      <th>irreg_lead_ant</th>\n",
              "      <th>election_now</th>\n",
              "      <th>election_recent</th>\n",
              "      <th>leg_recent</th>\n",
              "      <th>exec_recent</th>\n",
              "      <th>lead_recent</th>\n",
              "      <th>ref_recent</th>\n",
              "      <th>direct_recent</th>\n",
              "      <th>indirect_recent</th>\n",
              "      <th>victory_recent</th>\n",
              "      <th>defeat_recent</th>\n",
              "      <th>change_recent</th>\n",
              "      <th>nochange_recent</th>\n",
              "      <th>delayed</th>\n",
              "      <th>lastelection</th>\n",
              "      <th>loss</th>\n",
              "      <th>irregular</th>\n",
              "      <th>prev_conflict</th>\n",
              "      <th>pt_suc</th>\n",
              "      <th>pt_attempt</th>\n",
              "      <th>precip</th>\n",
              "      <th>couprisk</th>\n",
              "      <th>pctile_risk</th>\n",
              "    </tr>\n",
              "  </thead>\n",
              "  <tbody>\n",
              "    <tr>\n",
              "      <th>0</th>\n",
              "      <td>2.0</td>\n",
              "      <td>USA</td>\n",
              "      <td>Truman</td>\n",
              "      <td>1950.0</td>\n",
              "      <td>1.0</td>\n",
              "      <td>1.0</td>\n",
              "      <td>66.0</td>\n",
              "      <td>1</td>\n",
              "      <td>0.0</td>\n",
              "      <td>58.0</td>\n",
              "      <td>Presidential Democracy</td>\n",
              "      <td>0.0</td>\n",
              "      <td>0.0</td>\n",
              "      <td>0.0</td>\n",
              "      <td>0.0</td>\n",
              "      <td>0.0</td>\n",
              "      <td>0.0</td>\n",
              "      <td>0.0</td>\n",
              "      <td>0.0</td>\n",
              "      <td>0.0</td>\n",
              "      <td>0.0</td>\n",
              "      <td>0.0</td>\n",
              "      <td>0.0</td>\n",
              "      <td>0.0</td>\n",
              "      <td>0.0</td>\n",
              "      <td>0.0</td>\n",
              "      <td>0.0</td>\n",
              "      <td>0.0</td>\n",
              "      <td>0.0</td>\n",
              "      <td>2.639057</td>\n",
              "      <td>5.327876</td>\n",
              "      <td>7.565793</td>\n",
              "      <td>0.0</td>\n",
              "      <td>0.0</td>\n",
              "      <td>0.0</td>\n",
              "      <td>-0.069058</td>\n",
              "      <td>NaN</td>\n",
              "      <td>NaN</td>\n",
              "    </tr>\n",
              "    <tr>\n",
              "      <th>1</th>\n",
              "      <td>2.0</td>\n",
              "      <td>USA</td>\n",
              "      <td>Truman</td>\n",
              "      <td>1950.0</td>\n",
              "      <td>2.0</td>\n",
              "      <td>1.0</td>\n",
              "      <td>66.0</td>\n",
              "      <td>1</td>\n",
              "      <td>0.0</td>\n",
              "      <td>59.0</td>\n",
              "      <td>Presidential Democracy</td>\n",
              "      <td>0.0</td>\n",
              "      <td>0.0</td>\n",
              "      <td>0.0</td>\n",
              "      <td>0.0</td>\n",
              "      <td>0.0</td>\n",
              "      <td>0.0</td>\n",
              "      <td>0.0</td>\n",
              "      <td>0.0</td>\n",
              "      <td>0.0</td>\n",
              "      <td>0.0</td>\n",
              "      <td>0.0</td>\n",
              "      <td>0.0</td>\n",
              "      <td>0.0</td>\n",
              "      <td>0.0</td>\n",
              "      <td>0.0</td>\n",
              "      <td>0.0</td>\n",
              "      <td>0.0</td>\n",
              "      <td>0.0</td>\n",
              "      <td>2.708050</td>\n",
              "      <td>5.332719</td>\n",
              "      <td>7.566311</td>\n",
              "      <td>0.0</td>\n",
              "      <td>0.0</td>\n",
              "      <td>0.0</td>\n",
              "      <td>-0.113721</td>\n",
              "      <td>NaN</td>\n",
              "      <td>NaN</td>\n",
              "    </tr>\n",
              "    <tr>\n",
              "      <th>2</th>\n",
              "      <td>2.0</td>\n",
              "      <td>USA</td>\n",
              "      <td>Truman</td>\n",
              "      <td>1950.0</td>\n",
              "      <td>3.0</td>\n",
              "      <td>1.0</td>\n",
              "      <td>66.0</td>\n",
              "      <td>1</td>\n",
              "      <td>0.0</td>\n",
              "      <td>60.0</td>\n",
              "      <td>Presidential Democracy</td>\n",
              "      <td>0.0</td>\n",
              "      <td>0.0</td>\n",
              "      <td>0.0</td>\n",
              "      <td>0.0</td>\n",
              "      <td>0.0</td>\n",
              "      <td>0.0</td>\n",
              "      <td>0.0</td>\n",
              "      <td>0.0</td>\n",
              "      <td>0.0</td>\n",
              "      <td>0.0</td>\n",
              "      <td>0.0</td>\n",
              "      <td>0.0</td>\n",
              "      <td>0.0</td>\n",
              "      <td>0.0</td>\n",
              "      <td>0.0</td>\n",
              "      <td>0.0</td>\n",
              "      <td>0.0</td>\n",
              "      <td>0.0</td>\n",
              "      <td>2.772589</td>\n",
              "      <td>5.337538</td>\n",
              "      <td>7.566829</td>\n",
              "      <td>0.0</td>\n",
              "      <td>0.0</td>\n",
              "      <td>0.0</td>\n",
              "      <td>-0.108042</td>\n",
              "      <td>NaN</td>\n",
              "      <td>NaN</td>\n",
              "    </tr>\n",
              "    <tr>\n",
              "      <th>3</th>\n",
              "      <td>2.0</td>\n",
              "      <td>USA</td>\n",
              "      <td>Truman</td>\n",
              "      <td>1950.0</td>\n",
              "      <td>4.0</td>\n",
              "      <td>1.0</td>\n",
              "      <td>66.0</td>\n",
              "      <td>1</td>\n",
              "      <td>0.0</td>\n",
              "      <td>61.0</td>\n",
              "      <td>Presidential Democracy</td>\n",
              "      <td>0.0</td>\n",
              "      <td>0.0</td>\n",
              "      <td>0.0</td>\n",
              "      <td>0.0</td>\n",
              "      <td>0.0</td>\n",
              "      <td>0.0</td>\n",
              "      <td>0.0</td>\n",
              "      <td>0.0</td>\n",
              "      <td>0.0</td>\n",
              "      <td>0.0</td>\n",
              "      <td>0.0</td>\n",
              "      <td>0.0</td>\n",
              "      <td>0.0</td>\n",
              "      <td>0.0</td>\n",
              "      <td>0.0</td>\n",
              "      <td>0.0</td>\n",
              "      <td>0.0</td>\n",
              "      <td>0.0</td>\n",
              "      <td>2.833213</td>\n",
              "      <td>5.342334</td>\n",
              "      <td>7.567346</td>\n",
              "      <td>0.0</td>\n",
              "      <td>0.0</td>\n",
              "      <td>0.0</td>\n",
              "      <td>-0.041600</td>\n",
              "      <td>NaN</td>\n",
              "      <td>NaN</td>\n",
              "    </tr>\n",
              "    <tr>\n",
              "      <th>4</th>\n",
              "      <td>2.0</td>\n",
              "      <td>USA</td>\n",
              "      <td>Truman</td>\n",
              "      <td>1950.0</td>\n",
              "      <td>5.0</td>\n",
              "      <td>1.0</td>\n",
              "      <td>66.0</td>\n",
              "      <td>1</td>\n",
              "      <td>0.0</td>\n",
              "      <td>62.0</td>\n",
              "      <td>Presidential Democracy</td>\n",
              "      <td>0.0</td>\n",
              "      <td>0.0</td>\n",
              "      <td>0.0</td>\n",
              "      <td>0.0</td>\n",
              "      <td>0.0</td>\n",
              "      <td>0.0</td>\n",
              "      <td>0.0</td>\n",
              "      <td>0.0</td>\n",
              "      <td>0.0</td>\n",
              "      <td>0.0</td>\n",
              "      <td>0.0</td>\n",
              "      <td>0.0</td>\n",
              "      <td>0.0</td>\n",
              "      <td>0.0</td>\n",
              "      <td>0.0</td>\n",
              "      <td>0.0</td>\n",
              "      <td>0.0</td>\n",
              "      <td>0.0</td>\n",
              "      <td>2.890372</td>\n",
              "      <td>5.347107</td>\n",
              "      <td>7.567863</td>\n",
              "      <td>0.0</td>\n",
              "      <td>0.0</td>\n",
              "      <td>0.0</td>\n",
              "      <td>-0.129703</td>\n",
              "      <td>NaN</td>\n",
              "      <td>NaN</td>\n",
              "    </tr>\n",
              "    <tr>\n",
              "      <th>5</th>\n",
              "      <td>2.0</td>\n",
              "      <td>USA</td>\n",
              "      <td>Truman</td>\n",
              "      <td>1950.0</td>\n",
              "      <td>6.0</td>\n",
              "      <td>1.0</td>\n",
              "      <td>66.0</td>\n",
              "      <td>1</td>\n",
              "      <td>0.0</td>\n",
              "      <td>63.0</td>\n",
              "      <td>Presidential Democracy</td>\n",
              "      <td>0.0</td>\n",
              "      <td>0.0</td>\n",
              "      <td>0.0</td>\n",
              "      <td>0.0</td>\n",
              "      <td>0.0</td>\n",
              "      <td>0.0</td>\n",
              "      <td>0.0</td>\n",
              "      <td>0.0</td>\n",
              "      <td>0.0</td>\n",
              "      <td>0.0</td>\n",
              "      <td>0.0</td>\n",
              "      <td>0.0</td>\n",
              "      <td>0.0</td>\n",
              "      <td>0.0</td>\n",
              "      <td>0.0</td>\n",
              "      <td>0.0</td>\n",
              "      <td>0.0</td>\n",
              "      <td>0.0</td>\n",
              "      <td>2.944439</td>\n",
              "      <td>5.351858</td>\n",
              "      <td>7.568379</td>\n",
              "      <td>0.0</td>\n",
              "      <td>0.0</td>\n",
              "      <td>0.0</td>\n",
              "      <td>-0.184187</td>\n",
              "      <td>NaN</td>\n",
              "      <td>NaN</td>\n",
              "    </tr>\n",
              "    <tr>\n",
              "      <th>6</th>\n",
              "      <td>2.0</td>\n",
              "      <td>USA</td>\n",
              "      <td>Truman</td>\n",
              "      <td>1950.0</td>\n",
              "      <td>7.0</td>\n",
              "      <td>1.0</td>\n",
              "      <td>66.0</td>\n",
              "      <td>1</td>\n",
              "      <td>0.0</td>\n",
              "      <td>64.0</td>\n",
              "      <td>Presidential Democracy</td>\n",
              "      <td>0.0</td>\n",
              "      <td>0.0</td>\n",
              "      <td>0.0</td>\n",
              "      <td>0.0</td>\n",
              "      <td>0.0</td>\n",
              "      <td>0.0</td>\n",
              "      <td>0.0</td>\n",
              "      <td>0.0</td>\n",
              "      <td>0.0</td>\n",
              "      <td>0.0</td>\n",
              "      <td>0.0</td>\n",
              "      <td>0.0</td>\n",
              "      <td>0.0</td>\n",
              "      <td>0.0</td>\n",
              "      <td>0.0</td>\n",
              "      <td>0.0</td>\n",
              "      <td>0.0</td>\n",
              "      <td>0.0</td>\n",
              "      <td>2.995732</td>\n",
              "      <td>5.356586</td>\n",
              "      <td>7.568896</td>\n",
              "      <td>0.0</td>\n",
              "      <td>0.0</td>\n",
              "      <td>0.0</td>\n",
              "      <td>-0.047879</td>\n",
              "      <td>NaN</td>\n",
              "      <td>NaN</td>\n",
              "    </tr>\n",
              "    <tr>\n",
              "      <th>7</th>\n",
              "      <td>2.0</td>\n",
              "      <td>USA</td>\n",
              "      <td>Truman</td>\n",
              "      <td>1950.0</td>\n",
              "      <td>8.0</td>\n",
              "      <td>1.0</td>\n",
              "      <td>66.0</td>\n",
              "      <td>1</td>\n",
              "      <td>0.0</td>\n",
              "      <td>65.0</td>\n",
              "      <td>Presidential Democracy</td>\n",
              "      <td>0.0</td>\n",
              "      <td>0.0</td>\n",
              "      <td>0.0</td>\n",
              "      <td>0.0</td>\n",
              "      <td>0.0</td>\n",
              "      <td>0.0</td>\n",
              "      <td>0.0</td>\n",
              "      <td>0.0</td>\n",
              "      <td>0.0</td>\n",
              "      <td>0.0</td>\n",
              "      <td>0.0</td>\n",
              "      <td>0.0</td>\n",
              "      <td>0.0</td>\n",
              "      <td>0.0</td>\n",
              "      <td>0.0</td>\n",
              "      <td>0.0</td>\n",
              "      <td>0.0</td>\n",
              "      <td>0.0</td>\n",
              "      <td>3.044522</td>\n",
              "      <td>5.361292</td>\n",
              "      <td>7.569412</td>\n",
              "      <td>0.0</td>\n",
              "      <td>0.0</td>\n",
              "      <td>0.0</td>\n",
              "      <td>-0.070590</td>\n",
              "      <td>NaN</td>\n",
              "      <td>NaN</td>\n",
              "    </tr>\n",
              "    <tr>\n",
              "      <th>8</th>\n",
              "      <td>2.0</td>\n",
              "      <td>USA</td>\n",
              "      <td>Truman</td>\n",
              "      <td>1950.0</td>\n",
              "      <td>9.0</td>\n",
              "      <td>1.0</td>\n",
              "      <td>66.0</td>\n",
              "      <td>1</td>\n",
              "      <td>0.0</td>\n",
              "      <td>66.0</td>\n",
              "      <td>Presidential Democracy</td>\n",
              "      <td>0.0</td>\n",
              "      <td>0.0</td>\n",
              "      <td>0.0</td>\n",
              "      <td>0.0</td>\n",
              "      <td>0.0</td>\n",
              "      <td>0.0</td>\n",
              "      <td>0.0</td>\n",
              "      <td>0.0</td>\n",
              "      <td>0.0</td>\n",
              "      <td>0.0</td>\n",
              "      <td>0.0</td>\n",
              "      <td>0.0</td>\n",
              "      <td>0.0</td>\n",
              "      <td>0.0</td>\n",
              "      <td>0.0</td>\n",
              "      <td>0.0</td>\n",
              "      <td>0.0</td>\n",
              "      <td>0.0</td>\n",
              "      <td>3.091042</td>\n",
              "      <td>5.365976</td>\n",
              "      <td>7.569928</td>\n",
              "      <td>0.0</td>\n",
              "      <td>0.0</td>\n",
              "      <td>0.0</td>\n",
              "      <td>0.035557</td>\n",
              "      <td>NaN</td>\n",
              "      <td>NaN</td>\n",
              "    </tr>\n",
              "    <tr>\n",
              "      <th>9</th>\n",
              "      <td>2.0</td>\n",
              "      <td>USA</td>\n",
              "      <td>Truman</td>\n",
              "      <td>1950.0</td>\n",
              "      <td>10.0</td>\n",
              "      <td>1.0</td>\n",
              "      <td>66.0</td>\n",
              "      <td>1</td>\n",
              "      <td>0.0</td>\n",
              "      <td>67.0</td>\n",
              "      <td>Presidential Democracy</td>\n",
              "      <td>0.0</td>\n",
              "      <td>0.0</td>\n",
              "      <td>0.0</td>\n",
              "      <td>0.0</td>\n",
              "      <td>0.0</td>\n",
              "      <td>0.0</td>\n",
              "      <td>0.0</td>\n",
              "      <td>0.0</td>\n",
              "      <td>0.0</td>\n",
              "      <td>0.0</td>\n",
              "      <td>0.0</td>\n",
              "      <td>0.0</td>\n",
              "      <td>0.0</td>\n",
              "      <td>0.0</td>\n",
              "      <td>0.0</td>\n",
              "      <td>0.0</td>\n",
              "      <td>0.0</td>\n",
              "      <td>0.0</td>\n",
              "      <td>3.135494</td>\n",
              "      <td>5.370638</td>\n",
              "      <td>7.570443</td>\n",
              "      <td>0.0</td>\n",
              "      <td>0.0</td>\n",
              "      <td>0.0</td>\n",
              "      <td>-0.138818</td>\n",
              "      <td>NaN</td>\n",
              "      <td>NaN</td>\n",
              "    </tr>\n",
              "  </tbody>\n",
              "</table>\n",
              "</div>"
            ],
            "text/plain": [
              "   ccode country  leader    year  month  elected   age  male  militarycareer  \\\n",
              "0    2.0     USA  Truman  1950.0    1.0      1.0  66.0     1             0.0   \n",
              "1    2.0     USA  Truman  1950.0    2.0      1.0  66.0     1             0.0   \n",
              "2    2.0     USA  Truman  1950.0    3.0      1.0  66.0     1             0.0   \n",
              "3    2.0     USA  Truman  1950.0    4.0      1.0  66.0     1             0.0   \n",
              "4    2.0     USA  Truman  1950.0    5.0      1.0  66.0     1             0.0   \n",
              "5    2.0     USA  Truman  1950.0    6.0      1.0  66.0     1             0.0   \n",
              "6    2.0     USA  Truman  1950.0    7.0      1.0  66.0     1             0.0   \n",
              "7    2.0     USA  Truman  1950.0    8.0      1.0  66.0     1             0.0   \n",
              "8    2.0     USA  Truman  1950.0    9.0      1.0  66.0     1             0.0   \n",
              "9    2.0     USA  Truman  1950.0   10.0      1.0  66.0     1             0.0   \n",
              "\n",
              "   tenure_months              government  anticipation  ref_ant  leg_ant  \\\n",
              "0           58.0  Presidential Democracy           0.0      0.0      0.0   \n",
              "1           59.0  Presidential Democracy           0.0      0.0      0.0   \n",
              "2           60.0  Presidential Democracy           0.0      0.0      0.0   \n",
              "3           61.0  Presidential Democracy           0.0      0.0      0.0   \n",
              "4           62.0  Presidential Democracy           0.0      0.0      0.0   \n",
              "5           63.0  Presidential Democracy           0.0      0.0      0.0   \n",
              "6           64.0  Presidential Democracy           0.0      0.0      0.0   \n",
              "7           65.0  Presidential Democracy           0.0      0.0      0.0   \n",
              "8           66.0  Presidential Democracy           0.0      0.0      0.0   \n",
              "9           67.0  Presidential Democracy           0.0      0.0      0.0   \n",
              "\n",
              "   exec_ant  irreg_lead_ant  election_now  election_recent  leg_recent  \\\n",
              "0       0.0             0.0           0.0              0.0         0.0   \n",
              "1       0.0             0.0           0.0              0.0         0.0   \n",
              "2       0.0             0.0           0.0              0.0         0.0   \n",
              "3       0.0             0.0           0.0              0.0         0.0   \n",
              "4       0.0             0.0           0.0              0.0         0.0   \n",
              "5       0.0             0.0           0.0              0.0         0.0   \n",
              "6       0.0             0.0           0.0              0.0         0.0   \n",
              "7       0.0             0.0           0.0              0.0         0.0   \n",
              "8       0.0             0.0           0.0              0.0         0.0   \n",
              "9       0.0             0.0           0.0              0.0         0.0   \n",
              "\n",
              "   exec_recent  lead_recent  ref_recent  direct_recent  indirect_recent  \\\n",
              "0          0.0          0.0         0.0            0.0              0.0   \n",
              "1          0.0          0.0         0.0            0.0              0.0   \n",
              "2          0.0          0.0         0.0            0.0              0.0   \n",
              "3          0.0          0.0         0.0            0.0              0.0   \n",
              "4          0.0          0.0         0.0            0.0              0.0   \n",
              "5          0.0          0.0         0.0            0.0              0.0   \n",
              "6          0.0          0.0         0.0            0.0              0.0   \n",
              "7          0.0          0.0         0.0            0.0              0.0   \n",
              "8          0.0          0.0         0.0            0.0              0.0   \n",
              "9          0.0          0.0         0.0            0.0              0.0   \n",
              "\n",
              "   victory_recent  defeat_recent  change_recent  nochange_recent  delayed  \\\n",
              "0             0.0            0.0            0.0              0.0      0.0   \n",
              "1             0.0            0.0            0.0              0.0      0.0   \n",
              "2             0.0            0.0            0.0              0.0      0.0   \n",
              "3             0.0            0.0            0.0              0.0      0.0   \n",
              "4             0.0            0.0            0.0              0.0      0.0   \n",
              "5             0.0            0.0            0.0              0.0      0.0   \n",
              "6             0.0            0.0            0.0              0.0      0.0   \n",
              "7             0.0            0.0            0.0              0.0      0.0   \n",
              "8             0.0            0.0            0.0              0.0      0.0   \n",
              "9             0.0            0.0            0.0              0.0      0.0   \n",
              "\n",
              "   lastelection      loss  irregular  prev_conflict  pt_suc  pt_attempt  \\\n",
              "0      2.639057  5.327876   7.565793            0.0     0.0         0.0   \n",
              "1      2.708050  5.332719   7.566311            0.0     0.0         0.0   \n",
              "2      2.772589  5.337538   7.566829            0.0     0.0         0.0   \n",
              "3      2.833213  5.342334   7.567346            0.0     0.0         0.0   \n",
              "4      2.890372  5.347107   7.567863            0.0     0.0         0.0   \n",
              "5      2.944439  5.351858   7.568379            0.0     0.0         0.0   \n",
              "6      2.995732  5.356586   7.568896            0.0     0.0         0.0   \n",
              "7      3.044522  5.361292   7.569412            0.0     0.0         0.0   \n",
              "8      3.091042  5.365976   7.569928            0.0     0.0         0.0   \n",
              "9      3.135494  5.370638   7.570443            0.0     0.0         0.0   \n",
              "\n",
              "     precip  couprisk  pctile_risk  \n",
              "0 -0.069058       NaN          NaN  \n",
              "1 -0.113721       NaN          NaN  \n",
              "2 -0.108042       NaN          NaN  \n",
              "3 -0.041600       NaN          NaN  \n",
              "4 -0.129703       NaN          NaN  \n",
              "5 -0.184187       NaN          NaN  \n",
              "6 -0.047879       NaN          NaN  \n",
              "7 -0.070590       NaN          NaN  \n",
              "8  0.035557       NaN          NaN  \n",
              "9 -0.138818       NaN          NaN  "
            ]
          },
          "metadata": {
            "tags": []
          },
          "execution_count": 4
        }
      ]
    },
    {
      "cell_type": "markdown",
      "metadata": {
        "id": "usoOhDRaO_hp"
      },
      "source": [
        "#### 1. Сколько форм правления (government) представлено в наборе? Как изменилась популярность каждой формы правления в 1955 году по сравнению с 2019? \n",
        "\n",
        "*(изобразите в виде гистограммы где для каждой из форм правления обозначена их популярность в 1955 и 2019 годах в виде столбца)*"
      ]
    },
    {
      "cell_type": "code",
      "metadata": {
        "id": "wRCRllL_O_hr",
        "colab": {
          "base_uri": "https://localhost:8080/",
          "height": 299
        },
        "outputId": "d6932e54-13e3-4e9b-dca4-a60f30e6c978"
      },
      "source": [
        "print(\"Количество форм правления: \", df.government.nunique())\n",
        "df[df.year == 2019].groupby('government').count().country.plot.barh(color='red')\n",
        "df[df.year == 1955].groupby('government').count().country.plot.barh(color='orange')"
      ],
      "execution_count": 5,
      "outputs": [
        {
          "output_type": "stream",
          "text": [
            "Количество форм правления:  16\n"
          ],
          "name": "stdout"
        },
        {
          "output_type": "execute_result",
          "data": {
            "text/plain": [
              "<matplotlib.axes._subplots.AxesSubplot at 0x7fa141f8de10>"
            ]
          },
          "metadata": {
            "tags": []
          },
          "execution_count": 5
        },
        {
          "output_type": "display_data",
          "data": {
            "image/png": "[encoded data removed]",
            "text/plain": [
              "<Figure size 432x288 with 1 Axes>"
            ]
          },
          "metadata": {
            "tags": [],
            "needs_background": "light"
          }
        }
      ]
    },
    {
      "cell_type": "markdown",
      "metadata": {
        "id": "JYVmFSC_O_h6"
      },
      "source": [
        "#### 2. Как менялся средний возраст правителей с годами?\n",
        "\n",
        "*(Постройте график, где по оси X обозначены года, по оси Y средний возраст всех правителей в соответствующем году)*"
      ]
    },
    {
      "cell_type": "code",
      "metadata": {
        "id": "VqNzugvVO_h8",
        "colab": {
          "base_uri": "https://localhost:8080/",
          "height": 299
        },
        "outputId": "1b50503e-80d8-4610-95d8-d3531341e2a3"
      },
      "source": [
        "df[['year', 'age']].groupby('year').mean().plot()"
      ],
      "execution_count": 6,
      "outputs": [
        {
          "output_type": "execute_result",
          "data": {
            "text/plain": [
              "<matplotlib.axes._subplots.AxesSubplot at 0x7fa141e31c18>"
            ]
          },
          "metadata": {
            "tags": []
          },
          "execution_count": 6
        },
        {
          "output_type": "display_data",
          "data": {
            "image/png": "[encoded data removed]",
            "text/plain": [
              "<Figure size 432x288 with 1 Axes>"
            ]
          },
          "metadata": {
            "tags": [],
            "needs_background": "light"
          }
        }
      ]
    },
    {
      "cell_type": "markdown",
      "metadata": {
        "id": "ie118VKsO_iJ"
      },
      "source": [
        "#### 3. Сколько выборов (процессов всенародного голосования) произошло в мире в период с апреля 1995 (включительно) по февраль 2006 (включительно)?\n",
        "\n",
        "*Подсказка: для удобной работы с датами добавьте виртуальный столбец (ф-я apply), в котором будут храниться объекты datetime.date. Такие объекты корректно обрабатывают операторы сравнения > и <.*"
      ]
    },
    {
      "cell_type": "code",
      "metadata": {
        "id": "58iI1NOGO_iL",
        "colab": {
          "base_uri": "https://localhost:8080/"
        },
        "outputId": "4b52c590-cf98-419d-9ff6-1f6a131e5d84"
      },
      "source": [
        "import datetime as dt\r\n",
        "\r\n",
        "df['date'] = df.apply(lambda sr: dt.date(int(sr.year), int(sr.month), 1), axis=1)\r\n",
        "FDate = dt.date(1995, 3, 1)\r\n",
        "SDate = dt.date(2006, 2, 1)\r\n",
        "print('Выборов:', len(df.loc[(df.date >= FDate) & (df.date <= SDate) & (df.election_now == 1)]))"
      ],
      "execution_count": 7,
      "outputs": [
        {
          "output_type": "stream",
          "text": [
            "Выборов: 586\n"
          ],
          "name": "stdout"
        }
      ]
    },
    {
      "cell_type": "markdown",
      "metadata": {
        "id": "lE5XceUzO_iZ"
      },
      "source": [
        "#### 4. При какой форме правления чаще всего происходит смена власти (сменяется правитель в результате выборов)? А при какой власть дольше остается несменяемой (остается тот же правитель после выборов)?\n",
        "\n",
        "*Подсказка 1: за сменяемость власти после выборов отвечают флаги change_recent и nochange_recent. Но они принимают значение \"1\" в течение 6 месяцев, следующих за месяцем, в котором прошли выборы. Но нам нужно учитывать только один месяц, следующий сразу за перевыборами. Для этого можно получить все даты, для которых election_now=1, прибавить 1 месяц (класс dateutil.relativedelta) и отфильтровать по этим датам.*\n",
        "\n",
        "*Подсказка 2: учтите, что в разных странах выборы могут проходить в соседние даты, поэтому при выборке по параметру election_now=1 нужно оставлять информацию о принадлежности к стране.*\n",
        "\n",
        "*Подсказка 3: некоторые формы правления более популярны в мире чем другие, поэтому частоту смены власти логично нормировать на общее количество выборов, прошедших для каждой формы правления.*"
      ]
    },
    {
      "cell_type": "code",
      "metadata": {
        "scrolled": true,
        "id": "l0Jwc-ZiO_ib",
        "colab": {
          "base_uri": "https://localhost:8080/"
        },
        "outputId": "5ded6eec-6f5e-4016-e42a-a86aa2105f36"
      },
      "source": [
        "df_election = df[df.election_now == 1][['country', 'date']]\r\n",
        "\r\n",
        "df_election['date'] = df_election.apply(lambda sr: dt.date(sr.date.year, (sr.date.month % 12 + 1), 1), axis=1)\r\n",
        "df_election.drop_duplicates()\r\n",
        "\r\n",
        "df_month_after_election = df_election.merge(df, on=['date', 'country'], how='left')\r\n",
        "df_government_election = df_month_after_election[['change_recent', 'nochange_recent', 'government']]\r\n",
        "government = df_government_election.groupby('government')\r\n",
        "chr = government.change_recent.mean()\r\n",
        "nochr = government.nochange_recent.mean()\r\n",
        "\r\n",
        "print('Больше всего смена власти происходит при', ', '.join(list(chr[chr.values == chr.max()].index)))\r\n",
        "print('Больше всего власть остается несменяемой при', ', '.join(list(nochr[nochr.values == nochr.max()].index)))"
      ],
      "execution_count": 12,
      "outputs": [
        {
          "output_type": "stream",
          "text": [
            "Больше всего смена власти происходит при Indirect Military\n",
            "Больше всего власть остается несменяемой при Oligarchy, Warlordism\n"
          ],
          "name": "stdout"
        }
      ]
    },
    {
      "cell_type": "markdown",
      "metadata": {
        "id": "27M20u8BO_io"
      },
      "source": [
        "#### 5. Выберите любую страну из набора данных и покажите как для неё менялся риск государственного переворота pctile_risk. Сопоставьте эти данные с датами выборов в стране (election_now). Есть ли взаимосвязь? В чем она проявляется?\n",
        "\n",
        "*Примечание: для стран СНГ нужно учитывать что все они до 1991 года были в составе СССР.*"
      ]
    },
    {
      "cell_type": "code",
      "metadata": {
        "id": "otkNy85zO_iq",
        "colab": {
          "base_uri": "https://localhost:8080/",
          "height": 296
        },
        "outputId": "220a6d15-df01-4bea-e271-eb4169c89a02"
      },
      "source": [
        "country = 'Egypt'\r\n",
        "df[df.country == country][['date', 'pctile_risk', 'election_now']].dropna().plot(x='date', style=['-', '.'])\r\n",
        "\r\n",
        "#Как можно заметить из графика между риском государственного переворота и датами выборов нет никакой взаимосвязи"
      ],
      "execution_count": 14,
      "outputs": [
        {
          "output_type": "execute_result",
          "data": {
            "text/plain": [
              "<matplotlib.axes._subplots.AxesSubplot at 0x7fa1417cecc0>"
            ]
          },
          "metadata": {
            "tags": []
          },
          "execution_count": 14
        },
        {
          "output_type": "display_data",
          "data": {
            "image/png": "[encoded data removed]",
            "text/plain": [
              "<Figure size 432x288 with 1 Axes>"
            ]
          },
          "metadata": {
            "tags": [],
            "needs_background": "light"
          }
        }
      ]
    },
    {
      "cell_type": "markdown",
      "metadata": {
        "id": "6BvtPj-VO_i6"
      },
      "source": [
        "#### 6. Правда ли, что каждый 10 правитель (10% лидеров) оставались у власти более чем на 1 срок?"
      ]
    },
    {
      "cell_type": "code",
      "metadata": {
        "id": "QDMyx552O_i7",
        "colab": {
          "base_uri": "https://localhost:8080/"
        },
        "outputId": "97778fc4-6b54-4c71-f13e-7168ae4b5df5"
      },
      "source": [
        "more_than_one = len(df_month_after_election[df_month_after_election.nochange_recent == 1].leader.unique())\r\n",
        "all_leaders = len(df.leader.unique())\r\n",
        "print('{}% лидеров оставались более чем на 1 срок'.format(int(more_than_one / all_leaders * 100)))"
      ],
      "execution_count": 16,
      "outputs": [
        {
          "output_type": "stream",
          "text": [
            "31% лидеров оставались более чем на 1 срок\n"
          ],
          "name": "stdout"
        }
      ]
    },
    {
      "cell_type": "markdown",
      "metadata": {
        "id": "CB1mTPbsO_jD"
      },
      "source": [
        "#### 7. Выберите 3 любых страны из набора данных. Соберите статистику возраста (максимальный, минимальный, средний) и пола (процентное соотношение мужчин и женщин) правителя для каждой страны. Выведите все данные в виде таблицы.\n",
        "\n",
        "*Подсказка: используйте groupby и describe.*"
      ]
    },
    {
      "cell_type": "code",
      "metadata": {
        "id": "rIjfdgUmO_jH",
        "colab": {
          "base_uri": "https://localhost:8080/",
          "height": 142
        },
        "outputId": "0c1a50fe-ef59-4cae-e437-12f0c640aee7"
      },
      "source": [
        "df_three_countries = df[(df.country == 'Germany') | (df.country == 'Russia') | (df.country == 'USA')][['country', 'leader', 'age', 'male']]\r\n",
        "df_statistics = pd.DataFrame()\r\n",
        "df_statistics['country'] = df_three_countries.country.unique()\r\n",
        "t = df_three_countries.groupby('country').describe().age.T.values\r\n",
        "\r\n",
        "df_statistics['min_age'] = t[3]\r\n",
        "df_statistics['mean_age'] = list(map(int, t[1]))\r\n",
        "df_statistics['max_age'] = t[7]\r\n",
        "\r\n",
        "t1 = df_three_countries.drop_duplicates(subset=['leader'])[['country', 'male']].groupby('country').mean().male\r\n",
        "df_statistics['male_percent'] = list(t1.apply(lambda sr: int(sr * 100)))\r\n",
        "df_statistics['female_percent'] = list(t1.apply(lambda sr: 100 - int(sr * 100)))\r\n",
        "df_statistics"
      ],
      "execution_count": 21,
      "outputs": [
        {
          "output_type": "execute_result",
          "data": {
            "text/html": [
              "<div>\n",
              "<style scoped>\n",
              "    .dataframe tbody tr th:only-of-type {\n",
              "        vertical-align: middle;\n",
              "    }\n",
              "\n",
              "    .dataframe tbody tr th {\n",
              "        vertical-align: top;\n",
              "    }\n",
              "\n",
              "    .dataframe thead th {\n",
              "        text-align: right;\n",
              "    }\n",
              "</style>\n",
              "<table border=\"1\" class=\"dataframe\">\n",
              "  <thead>\n",
              "    <tr style=\"text-align: right;\">\n",
              "      <th></th>\n",
              "      <th>country</th>\n",
              "      <th>min_age</th>\n",
              "      <th>mean_age</th>\n",
              "      <th>max_age</th>\n",
              "      <th>male_percent</th>\n",
              "      <th>female_percent</th>\n",
              "    </tr>\n",
              "  </thead>\n",
              "  <tbody>\n",
              "    <tr>\n",
              "      <th>0</th>\n",
              "      <td>USA</td>\n",
              "      <td>51.0</td>\n",
              "      <td>63</td>\n",
              "      <td>87.0</td>\n",
              "      <td>87</td>\n",
              "      <td>13</td>\n",
              "    </tr>\n",
              "    <tr>\n",
              "      <th>1</th>\n",
              "      <td>Germany</td>\n",
              "      <td>48.0</td>\n",
              "      <td>59</td>\n",
              "      <td>68.0</td>\n",
              "      <td>100</td>\n",
              "      <td>0</td>\n",
              "    </tr>\n",
              "    <tr>\n",
              "      <th>2</th>\n",
              "      <td>Russia</td>\n",
              "      <td>44.0</td>\n",
              "      <td>60</td>\n",
              "      <td>78.0</td>\n",
              "      <td>100</td>\n",
              "      <td>0</td>\n",
              "    </tr>\n",
              "  </tbody>\n",
              "</table>\n",
              "</div>"
            ],
            "text/plain": [
              "   country  min_age  mean_age  max_age  male_percent  female_percent\n",
              "0      USA     51.0        63     87.0            87              13\n",
              "1  Germany     48.0        59     68.0           100               0\n",
              "2   Russia     44.0        60     78.0           100               0"
            ]
          },
          "metadata": {
            "tags": []
          },
          "execution_count": 21
        }
      ]
    },
    {
      "cell_type": "markdown",
      "metadata": {
        "id": "FRWWCOyDO_jO"
      },
      "source": [
        "#### 8. Посчитайте среднегодовой риск переворота (pctile_risk) для каждого лидера. Для кого и в каком году он был максимальным? А минимальным?"
      ]
    },
    {
      "cell_type": "code",
      "metadata": {
        "id": "7I9fVBreO_jP",
        "colab": {
          "base_uri": "https://localhost:8080/"
        },
        "outputId": "182f0a92-cc54-4de1-df2e-6ee2ecf2d75d"
      },
      "source": [
        "df_leader_year = df[['leader', 'year', 'pctile_risk']].dropna().groupby(by=['leader', 'year']).mean()\r\n",
        "p1 = list(dict(df_leader_year[df_leader_year.pctile_risk == df_leader_year.max().pctile_risk].pctile_risk).keys())[0]\r\n",
        "p2 = list(dict(df_leader_year[df_leader_year.pctile_risk == df_leader_year.min().pctile_risk].pctile_risk).keys())[0]\r\n",
        "print('Максимальным был для {} в {}'.format(*p1))\r\n",
        "print('Минимальным был для {} в {}'.format(*p2))"
      ],
      "execution_count": 22,
      "outputs": [
        {
          "output_type": "stream",
          "text": [
            "Максимальным был для Bio в 1996.0\n",
            "Минимальным был для Franz Josef в 1978.0\n"
          ],
          "name": "stdout"
        }
      ]
    },
    {
      "cell_type": "markdown",
      "metadata": {
        "id": "FoFzIzuJO_ja"
      },
      "source": [
        "#### 9. Покажите как часто проходили государственные перевороты (pt_suc) и как они зависят от формы правления?\n",
        "\n",
        "*Примечание: некоторые формы правления более популярны в мире чем другие, поэтому данные логично нормировать на общую популярность форм правления в мире.*"
      ]
    },
    {
      "cell_type": "code",
      "metadata": {
        "id": "F9iG7dIPO_jc",
        "colab": {
          "base_uri": "https://localhost:8080/",
          "height": 296
        },
        "outputId": "f90687b7-9e21-468a-eda1-23966b27c787"
      },
      "source": [
        "df.groupby('date').pt_suc.mean().plot() #график гос. переворотов (первый график)"
      ],
      "execution_count": 24,
      "outputs": [
        {
          "output_type": "execute_result",
          "data": {
            "text/plain": [
              "<matplotlib.axes._subplots.AxesSubplot at 0x7fa141418898>"
            ]
          },
          "metadata": {
            "tags": []
          },
          "execution_count": 24
        },
        {
          "output_type": "display_data",
          "data": {
            "image/png": "[encoded data removed]",
            "text/plain": [
              "<Figure size 432x288 with 1 Axes>"
            ]
          },
          "metadata": {
            "tags": [],
            "needs_background": "light"
          }
        }
      ]
    },
    {
      "cell_type": "code",
      "metadata": {
        "colab": {
          "base_uri": "https://localhost:8080/",
          "height": 435
        },
        "id": "hlHM2_9miKDi",
        "outputId": "205057b7-b2d8-4bcd-8f04-b37284960a5b"
      },
      "source": [
        "df.groupby('government').pt_suc.mean().plot.bar(x='government', y='pt_suc') #график зависимости (второй график)"
      ],
      "execution_count": 25,
      "outputs": [
        {
          "output_type": "execute_result",
          "data": {
            "text/plain": [
              "<matplotlib.axes._subplots.AxesSubplot at 0x7fa1413fcdd8>"
            ]
          },
          "metadata": {
            "tags": []
          },
          "execution_count": 25
        },
        {
          "output_type": "display_data",
          "data": {
            "image/png": "[encoded data removed]",
            "text/plain": [
              "<Figure size 432x288 with 1 Axes>"
            ]
          },
          "metadata": {
            "tags": [],
            "needs_background": "light"
          }
        }
      ]
    },
    {
      "cell_type": "markdown",
      "metadata": {
        "id": "J9UKaTPiO_j5"
      },
      "source": [
        "#### 10. Постройте график зависимости принадлежности президента к силовым структурам (militarycareer) от формы правления (government). \n",
        "\n",
        "*Подсказка: сперва сгруппируйте данные по лидерам, потом используйте crosstab.*\n",
        "\n",
        "*Примечание: некоторые формы правления более популярны в мире чем другие, поэтому данные логично нормировать на общую популярность форм правления в мире.*"
      ]
    },
    {
      "cell_type": "code",
      "metadata": {
        "id": "UB9v5wM-O_j7",
        "colab": {
          "base_uri": "https://localhost:8080/",
          "height": 435
        },
        "outputId": "3ec6af97-3c04-4326-d90a-5723abef6202"
      },
      "source": [
        "df_milit = df.drop_duplicates(subset=['leader', 'militarycareer'])\r\n",
        "crtb = pd.crosstab(df_milit.militarycareer, df_milit.government)\r\n",
        "crtb.apply(lambda col: int(col[1] * 100 / sum(col))).plot.bar()"
      ],
      "execution_count": 26,
      "outputs": [
        {
          "output_type": "execute_result",
          "data": {
            "text/plain": [
              "<matplotlib.axes._subplots.AxesSubplot at 0x7fa141322c18>"
            ]
          },
          "metadata": {
            "tags": []
          },
          "execution_count": 26
        },
        {
          "output_type": "display_data",
          "data": {
            "image/png": "[encoded data removed]",
            "text/plain": [
              "<Figure size 432x288 with 1 Axes>"
            ]
          },
          "metadata": {
            "tags": [],
            "needs_background": "light"
          }
        }
      ]
    }
  ]
}